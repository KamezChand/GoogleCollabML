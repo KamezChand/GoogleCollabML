{
  "nbformat": 4,
  "nbformat_minor": 0,
  "metadata": {
    "colab": {
      "name": "Linear Regression Tutorial For Online Training.ipynb",
      "version": "0.3.2",
      "provenance": [],
      "include_colab_link": true
    },
    "kernelspec": {
      "name": "python3",
      "display_name": "Python 3"
    }
  },
  "cells": [
    {
      "cell_type": "markdown",
      "metadata": {
        "id": "view-in-github",
        "colab_type": "text"
      },
      "source": [
        "<a href=\"https://colab.research.google.com/github/KamezChand/GoogleCollabML/blob/master/Linear_Regression_Tutorial_For_Online_Training.ipynb\" target=\"_parent\"><img src=\"https://colab.research.google.com/assets/colab-badge.svg\" alt=\"Open In Colab\"/></a>"
      ]
    },
    {
      "metadata": {
        "id": "O9UU6Rn29VAV",
        "colab_type": "code",
        "outputId": "38981247-a2aa-4891-aad6-c55312b0387e",
        "colab": {
          "base_uri": "https://localhost:8080/",
          "height": 194
        }
      },
      "cell_type": "code",
      "source": [
        "# conventional way to import pandas\n",
        "import pandas as pd\n",
        "\n",
        "# read CSV file directly from a URL and save the results\n",
        "data = pd.read_csv('http://datasciencemastery.in/wp-content/uploads/2018/07/Advertising.csv', index_col=0)\n",
        "\n",
        "\n",
        "# display the first 5 rows\n",
        "data.head()\n",
        "\n",
        "\n"
      ],
      "execution_count": 0,
      "outputs": [
        {
          "output_type": "execute_result",
          "data": {
            "text/html": [
              "<div>\n",
              "<style scoped>\n",
              "    .dataframe tbody tr th:only-of-type {\n",
              "        vertical-align: middle;\n",
              "    }\n",
              "\n",
              "    .dataframe tbody tr th {\n",
              "        vertical-align: top;\n",
              "    }\n",
              "\n",
              "    .dataframe thead th {\n",
              "        text-align: right;\n",
              "    }\n",
              "</style>\n",
              "<table border=\"1\" class=\"dataframe\">\n",
              "  <thead>\n",
              "    <tr style=\"text-align: right;\">\n",
              "      <th></th>\n",
              "      <th>TV</th>\n",
              "      <th>radio</th>\n",
              "      <th>newspaper</th>\n",
              "      <th>sales</th>\n",
              "    </tr>\n",
              "  </thead>\n",
              "  <tbody>\n",
              "    <tr>\n",
              "      <th>1</th>\n",
              "      <td>230.1</td>\n",
              "      <td>37.8</td>\n",
              "      <td>69.2</td>\n",
              "      <td>22.1</td>\n",
              "    </tr>\n",
              "    <tr>\n",
              "      <th>2</th>\n",
              "      <td>44.5</td>\n",
              "      <td>39.3</td>\n",
              "      <td>45.1</td>\n",
              "      <td>10.4</td>\n",
              "    </tr>\n",
              "    <tr>\n",
              "      <th>3</th>\n",
              "      <td>17.2</td>\n",
              "      <td>45.9</td>\n",
              "      <td>69.3</td>\n",
              "      <td>9.3</td>\n",
              "    </tr>\n",
              "    <tr>\n",
              "      <th>4</th>\n",
              "      <td>151.5</td>\n",
              "      <td>41.3</td>\n",
              "      <td>58.5</td>\n",
              "      <td>18.5</td>\n",
              "    </tr>\n",
              "    <tr>\n",
              "      <th>5</th>\n",
              "      <td>180.8</td>\n",
              "      <td>10.8</td>\n",
              "      <td>58.4</td>\n",
              "      <td>12.9</td>\n",
              "    </tr>\n",
              "  </tbody>\n",
              "</table>\n",
              "</div>"
            ],
            "text/plain": [
              "      TV  radio  newspaper  sales\n",
              "1  230.1   37.8       69.2   22.1\n",
              "2   44.5   39.3       45.1   10.4\n",
              "3   17.2   45.9       69.3    9.3\n",
              "4  151.5   41.3       58.5   18.5\n",
              "5  180.8   10.8       58.4   12.9"
            ]
          },
          "metadata": {
            "tags": []
          },
          "execution_count": 1
        }
      ]
    },
    {
      "metadata": {
        "id": "fdItebCZ_mZs",
        "colab_type": "code",
        "outputId": "d029349d-ed86-4924-b4bb-42ab6da7a2a0",
        "colab": {
          "base_uri": "https://localhost:8080/",
          "height": 218
        }
      },
      "cell_type": "code",
      "source": [
        "# create a Python list of feature names\n",
        "feature_cols = ['TV', 'radio', 'newspaper']\n",
        "\n",
        "# use the list to select a subset of the original DataFrame\n",
        "X = data[feature_cols]\n",
        "\n",
        "# print the first 5 rows\n",
        "print(X.head())\n",
        "\n",
        "# select a Series from the DataFrame\n",
        "y = data['sales']\n",
        "\n",
        "\n",
        "# print the first 5 values\n",
        "print(y.head())"
      ],
      "execution_count": 0,
      "outputs": [
        {
          "output_type": "stream",
          "text": [
            "      TV  radio  newspaper\n",
            "1  230.1   37.8       69.2\n",
            "2   44.5   39.3       45.1\n",
            "3   17.2   45.9       69.3\n",
            "4  151.5   41.3       58.5\n",
            "5  180.8   10.8       58.4\n",
            "1    22.1\n",
            "2    10.4\n",
            "3     9.3\n",
            "4    18.5\n",
            "5    12.9\n",
            "Name: sales, dtype: float64\n"
          ],
          "name": "stdout"
        }
      ]
    },
    {
      "metadata": {
        "id": "ae-UzxHB-BAu",
        "colab_type": "code",
        "outputId": "edd8eef8-f94d-4670-e02b-eb10e822da20",
        "colab": {
          "base_uri": "https://localhost:8080/",
          "height": 34
        }
      },
      "cell_type": "code",
      "source": [
        "# import model\n",
        "from sklearn.linear_model import LinearRegression\n",
        "from sklearn.cross_validation import train_test_split\n",
        "from sklearn import datasets, linear_model\n",
        "\n",
        "X_train, X_test, y_train, y_test = train_test_split(X, y, test_size=0.10,  random_state=1)\n",
        "\n",
        "# instantiate\n",
        "linreg = LinearRegression()\n",
        "# fit the model to the training data (learn the coefficients)\n",
        "linreg.fit(X_train, y_train)\n",
        "\n",
        "\n"
      ],
      "execution_count": 0,
      "outputs": [
        {
          "output_type": "execute_result",
          "data": {
            "text/plain": [
              "LinearRegression(copy_X=True, fit_intercept=True, n_jobs=1, normalize=False)"
            ]
          },
          "metadata": {
            "tags": []
          },
          "execution_count": 10
        }
      ]
    },
    {
      "metadata": {
        "id": "SmnozkUI_D3B",
        "colab_type": "code",
        "outputId": "2ce05988-6c15-48dd-96df-bfd11ff508d8",
        "colab": {
          "base_uri": "https://localhost:8080/",
          "height": 353
        }
      },
      "cell_type": "code",
      "source": [
        "from sklearn import metrics\n",
        "import numpy as np\n",
        "\n",
        "# make predictions on the testing set\n",
        "y_pred = linreg.predict(X_test)\n",
        "\n",
        "\n",
        "for mp, av in zip(y_pred, y_test):\n",
        "  print ('Model Predicted Value ={}, Known Value = {}, difference = {}'.format(round(mp,2),round(av,2),round(abs(mp-av),2)))\n",
        "  \n",
        "\n",
        "\n"
      ],
      "execution_count": 0,
      "outputs": [
        {
          "output_type": "stream",
          "text": [
            "Model Predicted Value =8.72, Known Value = 8.5, difference = 0.22\n",
            "Model Predicted Value =21.07, Known Value = 22.3, difference = 1.23\n",
            "Model Predicted Value =14.98, Known Value = 14.9, difference = 0.08\n",
            "Model Predicted Value =17.2, Known Value = 12.8, difference = 4.4\n",
            "Model Predicted Value =24.21, Known Value = 26.2, difference = 1.99\n",
            "Model Predicted Value =17.31, Known Value = 17.4, difference = 0.09\n",
            "Model Predicted Value =13.76, Known Value = 11.6, difference = 2.16\n",
            "Model Predicted Value =14.8, Known Value = 12.3, difference = 2.5\n",
            "Model Predicted Value =14.89, Known Value = 13.4, difference = 1.49\n",
            "Model Predicted Value =12.42, Known Value = 12.6, difference = 0.18\n",
            "Model Predicted Value =12.02, Known Value = 11.7, difference = 0.32\n",
            "Model Predicted Value =6.57, Known Value = 8.8, difference = 2.23\n",
            "Model Predicted Value =9.06, Known Value = 10.5, difference = 1.44\n",
            "Model Predicted Value =12.7, Known Value = 12.5, difference = 0.2\n",
            "Model Predicted Value =3.49, Known Value = 5.3, difference = 1.81\n",
            "Model Predicted Value =12.02, Known Value = 13.4, difference = 1.38\n",
            "Model Predicted Value =19.47, Known Value = 18.9, difference = 0.57\n",
            "Model Predicted Value =9.29, Known Value = 10.7, difference = 1.41\n",
            "Model Predicted Value =11.3, Known Value = 11.9, difference = 0.6\n",
            "Model Predicted Value =20.03, Known Value = 20.2, difference = 0.17\n"
          ],
          "name": "stdout"
        }
      ]
    },
    {
      "metadata": {
        "id": "Tclf-eGrWD9I",
        "colab_type": "code",
        "outputId": "c8582b6f-0ad3-4f12-d24e-2b9ad1620435",
        "colab": {
          "base_uri": "https://localhost:8080/",
          "height": 84
        }
      },
      "cell_type": "code",
      "source": [
        "from sklearn import metrics\n",
        "\n",
        "\n",
        "print ('Mean Absolute Error = ', metrics.mean_absolute_error(y_test, y_pred))\n",
        "print ('Mean Squared Error = ',metrics.mean_squared_error(y_test, y_pred))\n",
        "print ('Root Mean Squared Error = ', np.sqrt(metrics.mean_squared_error(y_test, y_pred)))\n",
        "print ('R2 score = ', metrics.r2_score(y_test, y_pred))\n"
      ],
      "execution_count": 0,
      "outputs": [
        {
          "output_type": "stream",
          "text": [
            "Mean Absolute Error =  1.2231730213799095\n",
            "Mean Squared Error =  2.655908171625213\n",
            "Root Mean Squared Error =  1.6296957297683554\n",
            "R2 score =  0.8875923825281706\n"
          ],
          "name": "stdout"
        }
      ]
    },
    {
      "metadata": {
        "id": "Rz7r-xqb9ofP",
        "colab_type": "code",
        "outputId": "e964eaab-9022-4cd4-a04f-f549cdb92313",
        "colab": {
          "base_uri": "https://localhost:8080/",
          "height": 151
        }
      },
      "cell_type": "code",
      "source": [
        "from sklearn.cross_validation import train_test_split\n",
        "from sklearn import datasets, linear_model\n",
        "from sklearn.cross_validation import cross_val_score\n",
        "\n",
        "\n",
        "\n",
        "lm = linear_model.LinearRegression()\n",
        "scores = cross_val_score(lm, X, y, cv=10, scoring='r2')\n",
        "\n",
        "print(\"\\n\",scores)\n",
        "print (\"The mean of r2 is\", scores.mean())\n",
        "\n",
        "\n",
        "scores = cross_val_score(lm, X, y, cv=10, scoring='neg_mean_absolute_error')\n",
        "\n",
        "print(\"\\n\",scores)\n",
        "print (\"The mean of absolute error is\", scores.mean())\n",
        "\n",
        "\n",
        "\n",
        "\n"
      ],
      "execution_count": 0,
      "outputs": [
        {
          "output_type": "stream",
          "text": [
            "\n",
            " [0.8739214  0.85722834 0.92845438 0.89258759 0.90039671 0.94716849\n",
            " 0.72173689 0.9217827  0.83953548 0.90505634]\n",
            "The mean of r2 is 0.8787868325207902\n",
            "\n",
            " [-1.42314384 -1.42700504 -1.19312701 -1.41092813 -0.95649802 -0.92755409\n",
            " -2.06174995 -1.11161786 -0.99274803 -1.47739665]\n",
            "The mean of absolute error is -1.2981768621036889\n"
          ],
          "name": "stdout"
        }
      ]
    },
    {
      "metadata": {
        "id": "ikHAY2nxE1mL",
        "colab_type": "code",
        "outputId": "6cdfdb70-0fdb-4d00-e381-52358879049b",
        "colab": {
          "base_uri": "https://localhost:8080/",
          "height": 202
        }
      },
      "cell_type": "code",
      "source": [
        "# Taking To Production\n",
        "\n",
        "\n",
        "# import model\n",
        "from sklearn.linear_model import LinearRegression\n",
        "from sklearn.cross_validation import train_test_split\n",
        "from sklearn import datasets, linear_model\n",
        "\n",
        "\n",
        "# instantiate\n",
        "linreg = LinearRegression()\n",
        "linreg.fit(X, y)\n",
        "\n",
        "\n",
        "# read CSV file \n",
        "\n",
        "\n",
        "  \n",
        "  \n",
        "df = pd.read_csv('http://datasciencemastery.in/wp-content/uploads/2018/07/Advertising_Data_For_Prediction.csv', index_col=0)\n",
        "print(df)\n",
        "# create a Python list of feature names\n",
        "feature_cols = ['TV', 'radio', 'newspaper']\n",
        "\n",
        "# use the list to select a subset of the original DataFrame\n",
        "input_data = df[feature_cols]\n",
        "\n",
        "# make predictions on the testing set\n",
        "y_pred = linreg.predict(input_data)\n",
        "\n",
        "\n",
        "print(\"\\n\",y_pred)\n",
        "\n"
      ],
      "execution_count": 0,
      "outputs": [
        {
          "output_type": "stream",
          "text": [
            "      TV  radio  newspaper\n",
            "1  166.8   42.0        3.6\n",
            "2  149.7   35.6        6.0\n",
            "3   38.2    3.7       13.8\n",
            "4   94.2    4.9        8.1\n",
            "5  177.0    9.3        6.4\n",
            "6  283.6   42.0       66.2\n",
            "7  232.1    8.6        8.7\n",
            "\n",
            " [18.4378611  16.44871819  5.33077734  8.13096221 12.76027683 23.76024579\n",
            " 15.15701858]\n"
          ],
          "name": "stdout"
        }
      ]
    },
    {
      "metadata": {
        "id": "FyCllmqdE7f5",
        "colab_type": "code",
        "colab": {}
      },
      "cell_type": "code",
      "source": [
        ""
      ],
      "execution_count": 0,
      "outputs": []
    }
  ]
}